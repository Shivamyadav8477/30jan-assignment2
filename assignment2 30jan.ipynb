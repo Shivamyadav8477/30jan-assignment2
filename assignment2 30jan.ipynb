{
 "cells": [
  {
   "cell_type": "code",
   "execution_count": 15,
   "id": "b18a27dd-682c-4016-b3bd-8a0fc59120cd",
   "metadata": {},
   "outputs": [
    {
     "name": "stdin",
     "output_type": "stream",
     "text": [
      "enter your marks 60\n"
     ]
    },
    {
     "name": "stdout",
     "output_type": "stream",
     "text": [
      "you will be a part of grade C\n"
     ]
    }
   ],
   "source": [
    "marks=int(input(\"enter your marks\"))\n",
    "if marks>90:\n",
    "    print(\"you will be a part of grade A\")\n",
    "elif marks>80 and marks<=90:\n",
    "    print(\"you will be a part of grade B\")\n",
    "elif marks>=60 and marks<=80:\n",
    "    print(\"you will be a part of grade C\")\n",
    "else:\n",
    "    print(\"you will be part grade D\")"
   ]
  },
  {
   "cell_type": "code",
   "execution_count": 24,
   "id": "789eee6d-aa04-405e-8a88-b10b5f6441e6",
   "metadata": {},
   "outputs": [
    {
     "name": "stdin",
     "output_type": "stream",
     "text": [
      "enter price: 10000\n"
     ]
    },
    {
     "name": "stdout",
     "output_type": "stream",
     "text": [
      "i will think to pay\n"
     ]
    }
   ],
   "source": [
    "price=int(input(\"enter price:\"))\n",
    "if price>100000:\n",
    "    print(\"i will pay\")\n",
    "elif price >50000 and price <=100000:\n",
    "    print(\"i will not pay\")\n",
    "elif price<=50000:\n",
    "    print(\"i will think to pay\")"
   ]
  },
  {
   "cell_type": "code",
   "execution_count": 28,
   "id": "9997f16c-7d73-4bb2-aa63-8d23f57084f6",
   "metadata": {},
   "outputs": [
    {
     "name": "stdin",
     "output_type": "stream",
     "text": [
      "enter a city delhi\n"
     ]
    },
    {
     "name": "stdout",
     "output_type": "stream",
     "text": [
      "enter a valid city\n"
     ]
    }
   ],
   "source": [
    "city=input(\"enter a city\")\n",
    "if city.upper()==\"delhi\":\n",
    "    print(\"red fort\")\n",
    "elif city.upper()==\"jaipur\":\n",
    "    print(\"jal mahal\")\n",
    "elif city.upper()== \"agra\":\n",
    "    print(\"taj mahal\")\n",
    "else:\n",
    "    print(\"enter a valid city\")"
   ]
  },
  {
   "cell_type": "code",
   "execution_count": 30,
   "id": "62aea624-63b2-4c67-a41a-663acc6b037c",
   "metadata": {},
   "outputs": [
    {
     "ename": "SyntaxError",
     "evalue": "invalid syntax (3446062710.py, line 4)",
     "output_type": "error",
     "traceback": [
      "\u001b[0;36m  Cell \u001b[0;32mIn [30], line 4\u001b[0;36m\u001b[0m\n\u001b[0;31m    else:\u001b[0m\n\u001b[0m    ^\u001b[0m\n\u001b[0;31mSyntaxError\u001b[0m\u001b[0;31m:\u001b[0m invalid syntax\n"
     ]
    }
   ],
   "source": [
    "num1= int(input(\"enter your number:\"))\n",
    "if(num1%3==0):\n",
    "    print(\"{}is divisible by 3\".format(num1))\n",
    "    else:\n",
    "        print(\"{} is not divisible by 3\".format(num1))"
   ]
  },
  {
   "cell_type": "code",
   "execution_count": null,
   "id": "bac5c9dc-c952-41c3-9c03-8106feabcda0",
   "metadata": {},
   "outputs": [],
   "source": [
    "Qus5- why and when to use while loop in python give a deatailed description with example?\n",
    "ans- python while loop is used to run a block code until a certain condition is met.here, a while loop evaluates the condition\n",
    "     if the condition evaluates to true, the code inside the while loop executed.\n",
    "    example- #progam to display number 1 to 5\n",
    "    # initiazle the variable"
   ]
  },
  {
   "cell_type": "code",
   "execution_count": 31,
   "id": "b0f80418-e58d-4ee8-a757-60e51d1edaaa",
   "metadata": {},
   "outputs": [
    {
     "name": "stdout",
     "output_type": "stream",
     "text": [
      "1\n",
      "2\n",
      "3\n",
      "4\n",
      "5\n"
     ]
    }
   ],
   "source": [
    "i=1\n",
    "n=5\n",
    "while i<=n:\n",
    "    print(i)\n",
    "    i=i+1"
   ]
  },
  {
   "cell_type": "code",
   "execution_count": null,
   "id": "b54cda79-17a4-43e1-8b04-faccfa124e5a",
   "metadata": {},
   "outputs": [],
   "source": [
    "Qus6- use nested while loop to print 3 different pattern?"
   ]
  },
  {
   "cell_type": "code",
   "execution_count": 34,
   "id": "0cb954e8-5538-4b30-a967-d3c66331b059",
   "metadata": {},
   "outputs": [
    {
     "name": "stdout",
     "output_type": "stream",
     "text": [
      "1\n",
      "1\n",
      "2\n",
      "1\n",
      "2\n",
      "3\n",
      "1\n",
      "2\n",
      "3\n",
      "4\n",
      "1\n",
      "2\n",
      "3\n",
      "4\n",
      "5\n"
     ]
    }
   ],
   "source": [
    "rows= 5\n",
    "for i in range(1,rows+1):\n",
    "    for j in range (1,i+1):\n",
    "        print(j,end='')\n",
    "        print('')"
   ]
  },
  {
   "cell_type": "code",
   "execution_count": 6,
   "id": "c52ab278-c400-49ab-9c85-0e591ff82818",
   "metadata": {
    "tags": []
   },
   "outputs": [],
   "source": [
    "for i in range(4):\n",
    "    for j in range(4):\n",
    "        if j == i:\n",
    "            break\n",
    "            print(i,j)\n",
    "\n"
   ]
  },
  {
   "cell_type": "code",
   "execution_count": 7,
   "id": "156c2b7e-cb8a-4d2f-8002-3951b1be10bf",
   "metadata": {},
   "outputs": [
    {
     "name": "stdout",
     "output_type": "stream",
     "text": [
      "3 3\n"
     ]
    }
   ],
   "source": [
    "print(i,j)"
   ]
  },
  {
   "cell_type": "code",
   "execution_count": 11,
   "id": "8b6ce297-3325-40bf-bafa-f849e20d688b",
   "metadata": {},
   "outputs": [],
   "source": [
    "first=[2,4,6]\n",
    "second=[2,4,6,]\n",
    "for i in first:\n",
    "    for j in second:\n",
    "        if i==j:\n",
    "            continue\n",
    "            print(i,'*',j,'=',i*j)"
   ]
  },
  {
   "cell_type": "code",
   "execution_count": 13,
   "id": "77b842f0-ba92-4697-918a-7ab8fec26fc5",
   "metadata": {},
   "outputs": [
    {
     "name": "stdout",
     "output_type": "stream",
     "text": [
      "6 * 6 = 36\n"
     ]
    }
   ],
   "source": [
    "print(i,'*',j,'=',i*j)"
   ]
  },
  {
   "cell_type": "code",
   "execution_count": 15,
   "id": "7aff33a3-7c2b-4d1c-adf9-2f18e72cd21d",
   "metadata": {},
   "outputs": [],
   "source": [
    "Qus7- reverse a while loop to display number from 10 to 1?"
   ]
  },
  {
   "cell_type": "code",
   "execution_count": 19,
   "id": "9bcc369b-e403-4e43-a73a-14d17a5a4e37",
   "metadata": {},
   "outputs": [
    {
     "name": "stdout",
     "output_type": "stream",
     "text": [
      "10\n",
      "9\n",
      "8\n",
      "7\n",
      "6\n",
      "5\n",
      "4\n",
      "3\n",
      "2\n",
      "1\n"
     ]
    }
   ],
   "source": [
    "x=10\n",
    "while x<=10:\n",
    "    print(x)\n",
    "    x-=1\n",
    "    if x==0: \n",
    "        break"
   ]
  },
  {
   "cell_type": "code",
   "execution_count": null,
   "id": "dbe89378-2ab6-4a15-99d9-231166227409",
   "metadata": {},
   "outputs": [],
   "source": []
  }
 ],
 "metadata": {
  "kernelspec": {
   "display_name": "Python 3 (ipykernel)",
   "language": "python",
   "name": "python3"
  },
  "language_info": {
   "codemirror_mode": {
    "name": "ipython",
    "version": 3
   },
   "file_extension": ".py",
   "mimetype": "text/x-python",
   "name": "python",
   "nbconvert_exporter": "python",
   "pygments_lexer": "ipython3",
   "version": "3.10.6"
  }
 },
 "nbformat": 4,
 "nbformat_minor": 5
}
